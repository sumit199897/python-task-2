{
 "cells": [
  {
   "cell_type": "code",
   "execution_count": 2,
   "id": "1fafedb9-94ee-43bb-b405-acd8ba4f751d",
   "metadata": {},
   "outputs": [
    {
     "name": "stdout",
     "output_type": "stream",
     "text": [
      "Valid Password\n",
      "Invalid Password\n",
      "Invalid Password\n"
     ]
    }
   ],
   "source": [
    "import re\n",
    "\n",
    "def check_password(password):\n",
    "    # Check length\n",
    "    if len(password) != 10:\n",
    "        return \"Invalid Password\"\n",
    "\n",
    "    # Check for at least two uppercase letters\n",
    "    if len(re.findall(r'[A-Z]', password)) < 2:\n",
    "        return \"Invalid Password\"\n",
    "\n",
    "    # Check for at least two lowercase letters\n",
    "    if len(re.findall(r'[a-z]', password)) < 2:\n",
    "        return \"Invalid Password\"\n",
    "\n",
    "    # Check for at least a number\n",
    "    if len(re.findall(r'[0-9]', password)) < 1:\n",
    "        return \"Invalid Password\"\n",
    "\n",
    "    # Check for at least three special characters\n",
    "    if len(re.findall(r'[^a-zA-Z0-9]', password)) < 3:\n",
    "        return \"Invalid Password\"\n",
    "\n",
    "    return \"Valid Password\"\n",
    "\n",
    "# Test the function\n",
    "print(check_password(\"ABcd123@#$\"))  # Valid Password\n",
    "print(check_password(\"Abcdef123\"))   # Invalid Password\n",
    "print(check_password(\"Abcdef@\"))     # Invalid Password\n"
   ]
  },
  {
   "cell_type": "code",
   "execution_count": null,
   "id": "3ec6f020-3b04-4746-9073-7cd95e4f5a4e",
   "metadata": {},
   "outputs": [],
   "source": [
    "# Check if the string starts with a particular letter:\n",
    "\n",
    "starts_with_a = lambda s: s.startswith('A')\n",
    "print(starts_with_a(\"Apple\"))  # True\n",
    "\n",
    "# Check if the string is numeric:\n",
    "\n",
    "is_numeric = lambda s: s.isnumeric()\n",
    "print(is_numeric(\"123\"))  # True\n",
    "\n",
    "# Sort a list of tuples having fruit names and their quantity:\n",
    "\n",
    "fruits = [(\"mango\", 99), (\"orange\", 80), (\"grapes\", 1000)]\n",
    "sorted_fruits = sorted(fruits, key=lambda x: x[1])\n",
    "print(sorted_fruits)\n",
    "\n",
    "# Find the squares of numbers from 1 to 10:\n",
    "\n",
    "squares = [x**2 for x in range(1, 11)]\n",
    "print(squares)\n",
    "\n",
    "# Find the cube root of numbers from 1 to 10:\n",
    "\n",
    "import math\n",
    "cube_roots = [math.pow(x, 1/3) for x in range(1, 11)]\n",
    "print(cube_roots)\n",
    "\n",
    "\n",
    "# Check if a given number is even:\n",
    "\n",
    "is_even = lambda x: x % 2 == 0\n",
    "print(is_even(4))  # True\n",
    "\n",
    "# Filter odd numbers from the given list:\n",
    "\n",
    "numbers = [1, 2, 3, 4, 5, 6, 7, 8, 9, 10]\n",
    "odd_numbers = list(filter(lambda x: x % 2 != 0, numbers))\n",
    "print(odd_numbers)\n",
    " \n",
    "# "
   ]
  }
 ],
 "metadata": {
  "kernelspec": {
   "display_name": "Python 3 (ipykernel)",
   "language": "python",
   "name": "python3"
  },
  "language_info": {
   "codemirror_mode": {
    "name": "ipython",
    "version": 3
   },
   "file_extension": ".py",
   "mimetype": "text/x-python",
   "name": "python",
   "nbconvert_exporter": "python",
   "pygments_lexer": "ipython3",
   "version": "3.10.8"
  }
 },
 "nbformat": 4,
 "nbformat_minor": 5
}
